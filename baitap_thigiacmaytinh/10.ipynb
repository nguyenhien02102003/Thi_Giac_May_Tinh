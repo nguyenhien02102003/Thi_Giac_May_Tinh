{
 "cells": [
  {
   "cell_type": "code",
   "execution_count": 2,
   "id": "3e954f6d-2ba1-486f-a1d8-16684ff42e01",
   "metadata": {},
   "outputs": [],
   "source": [
    "from PIL import Image\n",
    "import matplotlib.pyplot as plt"
   ]
  },
  {
   "cell_type": "code",
   "execution_count": 8,
   "id": "16d99d86-34c1-4e87-af68-7c3de971da23",
   "metadata": {},
   "outputs": [
    {
     "name": "stdout",
     "output_type": "stream",
     "text": [
      "[(158.66883116883122, 138.99783549783547), (130.27056277056278, 157.00649350649348), (130.27056277056278, 157.00649350649348), (40.22727272727276, 86.3571428571428), (128.19264069264074, 83.58658008658006)]\n"
     ]
    }
   ],
   "source": [
    "# Đường dẫn ảnh\n",
    "my_path = 'D:/JS Duy/DNTU/nam4/ki1/thigiacmaytinh/img/01/01.jpg'\n",
    "#Đọc ảnh\n",
    "im = Image.open(my_path)\n",
    "\n",
    "#Chuyển đổi backend\n",
    "plt.switch_backend('tkagg')\n",
    "\n",
    "#Hiển thị ảnh\n",
    "plt.imshow(im)\n",
    "plt.title(\"Click on the image to select points\")\n",
    "\n",
    "# Sử dụng hàn ginput để chọn điểm trên ảnh\n",
    "points = plt.ginput(5)\n",
    "\n",
    "print(points)\n",
    "\n",
    "# Hiển thị \n",
    "plt.show()"
   ]
  },
  {
   "cell_type": "code",
   "execution_count": null,
   "id": "764ddf0a-6f9c-418d-8f66-a6e0c5daca1f",
   "metadata": {},
   "outputs": [],
   "source": [
    "# Vẽ lại các điểm đã chọn bằng dấu * màu đỏ\n",
    "plt.close()\n",
    "\n",
    "#Vẽ lại\n",
    "plt.imshow(im)\n",
    "\n",
    "for point in points:\n",
    "    x, y = point\n",
    "    plt.plot(x, y, 'r*')\n",
    "\n",
    "plt.show()"
   ]
  },
  {
   "cell_type": "code",
   "execution_count": null,
   "id": "b20c2389-280a-4295-9666-e620527abea0",
   "metadata": {},
   "outputs": [],
   "source": []
  }
 ],
 "metadata": {
  "kernelspec": {
   "display_name": "Python 3 (ipykernel)",
   "language": "python",
   "name": "python3"
  },
  "language_info": {
   "codemirror_mode": {
    "name": "ipython",
    "version": 3
   },
   "file_extension": ".py",
   "mimetype": "text/x-python",
   "name": "python",
   "nbconvert_exporter": "python",
   "pygments_lexer": "ipython3",
   "version": "3.12.4"
  }
 },
 "nbformat": 4,
 "nbformat_minor": 5
}
