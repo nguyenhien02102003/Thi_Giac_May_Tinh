{
 "cells": [
  {
   "cell_type": "code",
   "execution_count": 1,
   "id": "124bb4e1-f5df-4acb-a350-07c124408236",
   "metadata": {},
   "outputs": [],
   "source": [
    "# dấu # dùng để ghi chú\n",
    "# Shift + Enter: Run code và thêm 1 dòng mới"
   ]
  },
  {
   "cell_type": "code",
   "execution_count": null,
   "id": "adfbe3c6-2924-4a96-801a-88a43a6dc3df",
   "metadata": {},
   "outputs": [],
   "source": [
    "# Ctrl + Enter: Run code nhưng không add new line"
   ]
  }
 ],
 "metadata": {
  "kernelspec": {
   "display_name": "Python 3 (ipykernel)",
   "language": "python",
   "name": "python3"
  },
  "language_info": {
   "codemirror_mode": {
    "name": "ipython",
    "version": 3
   },
   "file_extension": ".py",
   "mimetype": "text/x-python",
   "name": "python",
   "nbconvert_exporter": "python",
   "pygments_lexer": "ipython3",
   "version": "3.12.4"
  }
 },
 "nbformat": 4,
 "nbformat_minor": 5
}
